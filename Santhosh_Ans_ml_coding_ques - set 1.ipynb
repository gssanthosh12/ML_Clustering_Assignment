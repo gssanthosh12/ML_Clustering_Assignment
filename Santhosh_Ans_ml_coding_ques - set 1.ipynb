{
 "cells": [
  {
   "cell_type": "code",
   "execution_count": null,
   "id": "acb8fd4d-013d-4cca-90b0-5d8aab4261b3",
   "metadata": {},
   "outputs": [],
   "source": [
    "#1.Question 1:A retail store wants to identify customers who make frequent purchases. Given the dataset below, write a Python program to:\n",
    "Group customers by their IDs.\n",
    "\n",
    "\n",
    "Calculate the total purchase amount per customer.\n",
    "\n",
    "\n",
    "Identify the top 3 customers with the highest purchase amounts.\n",
    "\n",
    "\n",
    "Dataset:\n",
    "data = {'Customer_ID': [101, 102, 103, 101, 104, 102, 101, 105, 102, 103],\n",
    "        'Purchase_Amount': [200, 150, 180, 220, 300, 200, 100, 400, 250, 300]}\n",
    "\n",
    "\n",
    "Expected Output:\n",
    "Total Purchases per Customer:\n",
    "   Customer_ID  Purchase_Amount\n",
    "0          101              520\n",
    "1          102              600\n",
    "2          103              480\n",
    "3          104              300\n",
    "4          105              400\n",
    "\n",
    "Top 3 Frequent Customers:\n",
    "   Customer_ID  Purchase_Amount\n",
    "1          102              600\n",
    "0          101              520\n",
    "2          103              480\n"
   ]
  },
  {
   "cell_type": "code",
   "execution_count": 13,
   "id": "0cf0c9d8-8207-46cb-bec1-4506fb9f3716",
   "metadata": {},
   "outputs": [
    {
     "name": "stdout",
     "output_type": "stream",
     "text": [
      "Total Purchases:\n",
      "    Customer_ID  Purchase_Amount\n",
      "0          101              520\n",
      "1          102              600\n",
      "2          103              480\n",
      "3          104              300\n",
      "4          105              400\n",
      "\n",
      "Top 3 Customers:\n",
      "    Customer_ID  Purchase_Amount\n",
      "1          102              600\n",
      "0          101              520\n",
      "2          103              480\n",
      "4          105              400\n",
      "3          104              300\n"
     ]
    },
    {
     "data": {
      "image/png": "[encoded data removed]",
      "text/plain": [
       "<Figure size 600x400 with 1 Axes>"
      ]
     },
     "metadata": {},
     "output_type": "display_data"
    }
   ],
   "source": [
    "#1. Answer \n",
    "import pandas as pd\n",
    "import matplotlib.pyplot as plt\n",
    "data = {'Customer_ID': [101, 102, 103, 101, 104, 102, 101, 105, 102, 103],\n",
    "        'Purchase_Amount': [200, 150, 180, 220, 300, 200, 100, 400, 250, 300]}\n",
    "#1. Create a Dataframe\n",
    "df = pd.DataFrame(data)\n",
    "\n",
    "#Group , then sum the purchase amount according to the group-Customer_ID\n",
    "#grouped by customer ID \n",
    "#After groupby('CustomerID'), we don’t yet calculate anything , so Inside each group (per CustomerID), we take the PurchaseAmount column and sum it.\n",
    "#this is not a DataFrame yet, it’s a Series with CustomerID\n",
    "# So we add Series back into a DataFrame with .reset_index()\n",
    "# Assign to total_purchase variable\n",
    "total_purchase= df.groupby('Customer_ID')['Purchase_Amount'].sum().reset_index()\n",
    "\n",
    "top_customers = total_purchase.sort_values(by='Purchase_Amount',ascending=False)\n",
    "print(\"Total Purchases:\\n\", total_purchase)\n",
    "print(\"\\nTop 3 Customers:\\n\", top_customers)\n",
    "\n",
    "#Visualization - Chart\n",
    "plt.figure(figsize=(6,4))\n",
    "plt.bar(top_customers['Customer_ID'].astype(str), top_customers['Purchase_Amount'], color='skyblue')\n",
    "plt.title(\"Top 3 Customers by Purchase Amount\")\n",
    "plt.xlabel(\"Customer ID\")\n",
    "plt.ylabel(\"Total Purchase Amount\")\n",
    "plt.show()\n"
   ]
  },
  {
   "cell_type": "code",
   "execution_count": null,
   "id": "1b725120",
   "metadata": {},
   "outputs": [],
   "source": [
    "#2. Predicting House Prices with Linear Regression\n",
    "A real estate company wants to predict house prices based on square footage. Write a Python program to:\n",
    "Train a Linear Regression model.\n",
    "\n",
    "\n",
    "Predict house prices for given test data.\n",
    "\n",
    "\n",
    "Dataset:\n",
    "data = {'Square_Feet': [1500, 2000, 2500, 3000, 3500],\n",
    "        'Price': [300000, 400000, 500000, 600000, 700000]}\n",
    "\n",
    "Test Data: [[1800], [2800]]\n",
    "Expected Output:\n",
    "Predicted Prices:\n",
    "[360000. 560000.]\n",
    "\n"
   ]
  },
  {
   "cell_type": "code",
   "execution_count": 17,
   "id": "a0c95b26-09e4-485b-bca5-7fb5b9ed05cd",
   "metadata": {},
   "outputs": [
    {
     "name": "stdout",
     "output_type": "stream",
     "text": [
      "Predict_Prices : \n",
      "[[360000.]\n",
      " [560000.]]\n"
     ]
    },
    {
     "name": "stderr",
     "output_type": "stream",
     "text": [
      "C:\\Users\\gssan\\anaconda3\\envs\\aiml\\Lib\\site-packages\\sklearn\\utils\\validation.py:2749: UserWarning: X does not have valid feature names, but LinearRegression was fitted with feature names\n",
      "  warnings.warn(\n"
     ]
    }
   ],
   "source": [
    "#2. Answer \n",
    "import pandas as pd\n",
    "from sklearn.model_selection import train_test_split\n",
    "from sklearn.linear_model import LinearRegression\n",
    "\n",
    "data = {'Square_Feet': [1500, 2000, 2500, 3000, 3500],\n",
    "        'Price': [300000, 400000, 500000, 600000, 700000]}\n",
    "\n",
    "df = pd.DataFrame(data)\n",
    "X = df[['Square_Feet']]\n",
    "Y = df[['Price']]\n",
    "\n",
    "regressor=LinearRegression()\n",
    "regressor.fit(X,Y)\n",
    "\n",
    "Test_Data = [[1800], [2800]]\n",
    "Predict_Prices = regressor.predict(Test_Data)\n",
    "\n",
    "print(\"Predict_Prices : \")\n",
    "print(Predict_Prices)\n"
   ]
  },
  {
   "cell_type": "code",
   "execution_count": null,
   "id": "2aae1fb9",
   "metadata": {},
   "outputs": [],
   "source": [
    "#3:\n",
    "Identifying Frequent Labels in a Dataset\n",
    "A company wants to identify the top 3 most common categories in a dataset. Given the dataset below, write a Python program to:\n",
    "Group the data by Category.\n",
    "\n",
    "\n",
    "Count the total occurrences of each category.\n",
    "\n",
    "\n",
    "Identify the top 3 most frequent categories.\n",
    "\n",
    "\n",
    "Dataset:\n",
    "data = {'Category': ['A', 'B', 'C', 'A', 'D', 'B', 'A', 'E', 'B', 'C', 'C', 'A'],\n",
    "        'Value': [10, 15, 20, 30, 25, 18, 22, 40, 35, 50, 45, 15]}\n",
    "\n",
    "Expected Output:\n",
    "\n",
    "Total Occurrences per Category:\n",
    "  Category  Count\n",
    "0        A      4\n",
    "1        B      3\n",
    "2        C      3\n",
    "3        D      1\n",
    "4        E      1\n",
    "\n",
    "Top 3 Frequent Categories:\n",
    "  Category  Count\n",
    "0        A      4\n",
    "1        B      3\n",
    "2        C      3\n"
   ]
  },
  {
   "cell_type": "code",
   "execution_count": 35,
   "id": "cca9f7dc-68bb-4ab5-8807-d149118dd1f4",
   "metadata": {},
   "outputs": [
    {
     "name": "stdout",
     "output_type": "stream",
     "text": [
      "Total Occurences:\n",
      "   Category  Count\n",
      "0        A      4\n",
      "1        B      3\n",
      "2        C      3\n",
      "3        D      1\n",
      "4        E      1\n",
      "\n",
      "Top 3 Category:\n",
      "   Category  Count\n",
      "0        A      4\n",
      "1        B      3\n",
      "2        C      3\n",
      "3        D      1\n",
      "4        E      1\n"
     ]
    }
   ],
   "source": [
    "#3. Answer\n",
    "import pandas as pd\n",
    "import matplotlib.pyplot as plt\n",
    "\n",
    "data = {'Category': ['A', 'B', 'C', 'A', 'D', 'B', 'A', 'E', 'B', 'C', 'C', 'A'],\n",
    "        'Value': [10, 15, 20, 30, 25, 18, 22, 40, 35, 50, 45, 15]}\n",
    "\n",
    "df = pd.DataFrame(data)\n",
    "\n",
    "# Groupby Category  and .size() counts the number of rows in each group\n",
    "# It returns a Series, not a DataFrame\n",
    "# The values are the counts\n",
    "# count column has no name. By default, it’s just 0\n",
    "# reset_index() coverts to column\n",
    "# count column is called 0, which is not descriptive, the name='Count' renames the column holding the counts.\n",
    "Category_Occurences= df.groupby('Category').size().reset_index(name='Count')\n",
    "Category_Occurences\n",
    "\n",
    "top_3 = Category_Occurences.sort_values(by='Count',ascending=False)\n",
    "print(\"Total Occurences:\\n\", Category_Occurences)\n",
    "print(\"\\nTop 3 Category:\\n\", top_3)\n",
    "\n",
    "\n"
   ]
  },
  {
   "cell_type": "code",
   "execution_count": null,
   "id": "e00c3d13",
   "metadata": {},
   "outputs": [],
   "source": [
    "#4.\n",
    "Predicting Missing Values Using Mean Imputation\n",
    "A dataset contains missing values in the Age column. Write a Python program to:\n",
    "Replace missing values with the mean of the column.\n",
    "\n",
    "\n",
    "Display the updated DataFrame.\n",
    "\n",
    "\n",
    "Dataset:\n",
    "data = {'Name': ['Alice', 'Bob', 'Charlie', 'David', 'Eve'],\n",
    "        'Age': [25, 30, None, 35, None]}\n",
    "\n",
    "Expected Output:\n",
    "\n",
    "Original Data:\n",
    "     Name   Age\n",
    "0  Alice  25.0\n",
    "1    Bob  30.0\n",
    "2 Charlie   NaN\n",
    "3  David  35.0\n",
    "4    Eve   NaN\n",
    "\n",
    "Data after Imputation:\n",
    "     Name   Age\n",
    "0  Alice  25.0\n",
    "1    Bob  30.0\n",
    "2 Charlie  30.0\n",
    "3  David  35.0\n",
    "4    Eve  30.0\n"
   ]
  },
  {
   "cell_type": "code",
   "execution_count": 40,
   "id": "52e49e1f-1d2a-4276-bd35-6dd2a678560e",
   "metadata": {},
   "outputs": [
    {
     "name": "stdout",
     "output_type": "stream",
     "text": [
      "      Name   Age\n",
      "0    Alice  25.0\n",
      "1      Bob  30.0\n",
      "2  Charlie   NaN\n",
      "3    David  35.0\n",
      "4      Eve   NaN\n",
      "\n",
      "Data after Imputation:\n",
      "      Name   Age\n",
      "0    Alice  25.0\n",
      "1      Bob  30.0\n",
      "2  Charlie  30.0\n",
      "3    David  35.0\n",
      "4      Eve  30.0\n"
     ]
    }
   ],
   "source": [
    "#4. Answer\n",
    "\n",
    "#Mean imputation is a technique used to handle missing values in a dataset.\n",
    "#When a column has missing values (NaN), we replace those missing values with the mean (average) of the non-missing values in that column.\n",
    "#It is commonly used for numerical data.\n",
    "\n",
    "import pandas as pd\n",
    "\n",
    "data = {'Name': ['Alice', 'Bob', 'Charlie', 'David', 'Eve'],\n",
    "        'Age': [25, 30, None, 35, None]}\n",
    "\n",
    "df=pd.DataFrame(data)\n",
    "print(df)\n",
    "\n",
    "#df['Column'].mean() → calculates the mean (ignores NaN by default)\n",
    "meanAge=df['Age'].mean()\n",
    "meanAge\n",
    "\n",
    "#df['Column'].fillna(value) → replaces missing values with a specific value\n",
    "df['Age'] = df['Age'].fillna(meanAge)\n",
    "print(\"\\nData after Imputation:\")\n",
    "print(df)"
   ]
  },
  {
   "cell_type": "code",
   "execution_count": null,
   "id": "46620661",
   "metadata": {},
   "outputs": [],
   "source": [
    "# 5: \n",
    "Implementing a Simple Linear Regression Model\n",
    "You are given a dataset with Experience (years) and Salary ($). Write a Python program to:\n",
    "Train a Linear Regression model.\n",
    "\n",
    "\n",
    "Predict the salary for an individual with 6 years of experience.\n",
    "\n",
    "\n",
    "Dataset:\n",
    "import pandas as pd\n",
    "\n",
    "data = {'Experience': [1, 2, 3, 4, 5], \n",
    "        'Salary': [30000, 35000, 40000, 45000, 50000]}\n",
    "df = pd.DataFrame(data)\n",
    "\n",
    "Expected Output (Example):\n",
    "\n",
    "Predicted Salary for 6 years of experience: $55000\n",
    "\n",
    "\n",
    "data = {'word_count': [100, 150, 200, 120, 180, 220], \n",
    "        'is_spam': ['ham', 'spam', 'spam', 'ham', 'spam', 'spam']}\n",
    "df = pd.DataFrame(data)\n",
    "\n",
    "Expected Output (Example):\n",
    "Prediction for email with 200 words: Spam\n",
    "\n"
   ]
  },
  {
   "cell_type": "code",
   "execution_count": 46,
   "id": "2af98454",
   "metadata": {},
   "outputs": [
    {
     "name": "stdout",
     "output_type": "stream",
     "text": [
      "Predicted Salary for 6 years of experience: $ [55000.]\n",
      "Slope (Coefficient): 5000.0\n",
      "Intercept: 25000.0\n"
     ]
    },
    {
     "name": "stderr",
     "output_type": "stream",
     "text": [
      "C:\\Users\\gssan\\anaconda3\\envs\\aiml\\Lib\\site-packages\\sklearn\\utils\\validation.py:2749: UserWarning: X does not have valid feature names, but LinearRegression was fitted with feature names\n",
      "  warnings.warn(\n"
     ]
    }
   ],
   "source": [
    "import pandas as pd\n",
    "from sklearn.model_selection import train_test_split\n",
    "from sklearn.linear_model import LinearRegression\n",
    "\n",
    "data = {'Experience': [1, 2, 3, 4, 5], \n",
    "        'Salary': [30000, 35000, 40000, 45000, 50000]}\n",
    "\n",
    "df = pd.DataFrame(data)\n",
    "X = df[['Experience']]\n",
    "Y = df['Salary']\n",
    "\n",
    "regressor=LinearRegression()\n",
    "regressor.fit(X,Y)\n",
    "\n",
    "\n",
    "Predict_Salary = regressor.predict([[6]])\n",
    "\n",
    "print(\"Predicted Salary for 6 years of experience: $\",Predict_Salary)\n",
    "\n",
    "print(\"Slope (Coefficient):\", regressor.coef_[0])\n",
    "print(\"Intercept:\", regressor.intercept_)\n",
    "\n",
    "#I saw the output in the answer its perfect if i define like this\n",
    "# print(f\"Predicted Salary for 6 years of experience: ${predicted_salary[0]:.2f}\") -> Can we discuss on this output \n"
   ]
  },
  {
   "cell_type": "code",
   "execution_count": null,
   "id": "7764e334-3d9e-4866-9421-d8af04d14cf4",
   "metadata": {},
   "outputs": [],
   "source": []
  }
 ],
 "metadata": {
  "kernelspec": {
   "display_name": "Python 3 (ipykernel)",
   "language": "python",
   "name": "python3"
  },
  "language_info": {
   "codemirror_mode": {
    "name": "ipython",
    "version": 3
   },
   "file_extension": ".py",
   "mimetype": "text/x-python",
   "name": "python",
   "nbconvert_exporter": "python",
   "pygments_lexer": "ipython3",
   "version": "3.12.11"
  }
 },
 "nbformat": 4,
 "nbformat_minor": 5
}
